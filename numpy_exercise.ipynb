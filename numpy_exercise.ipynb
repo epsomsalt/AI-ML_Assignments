{
 "cells": [
  {
   "cell_type": "code",
   "execution_count": null,
   "id": "1c6347fd",
   "metadata": {},
   "outputs": [],
   "source": [
    "# numpy assignment 23/01/2023 \n",
    "# due on 30/01/2023 EOD\n",
    "# formlink to upload the doc: https://forms.office.com/r/kY6avu9rJN"
   ]
  },
  {
   "cell_type": "code",
   "execution_count": null,
   "id": "64026b5d",
   "metadata": {},
   "outputs": [],
   "source": [
    "# Q0. How to create an empty and a full NumPy array(filled with 5) of size (5,4)?"
   ]
  },
  {
   "cell_type": "code",
   "execution_count": 115,
   "id": "50b461b9",
   "metadata": {},
   "outputs": [
    {
     "name": "stdout",
     "output_type": "stream",
     "text": [
      "[[5. 5. 5. 5.]\n",
      " [5. 5. 5. 5.]\n",
      " [5. 5. 5. 5.]\n",
      " [5. 5. 5. 5.]\n",
      " [5. 5. 5. 5.]]\n"
     ]
    }
   ],
   "source": [
    "import numpy as np\n",
    "print(np.ones(20).reshape(5,4)*5)"
   ]
  },
  {
   "cell_type": "code",
   "execution_count": null,
   "id": "d8afe07f",
   "metadata": {},
   "outputs": [],
   "source": [
    "# Q1. Find the most frequent value in a NumPy array [1,2,3,4,5,1,2,1,1,1]"
   ]
  },
  {
   "cell_type": "code",
   "execution_count": 38,
   "id": "8423c40d",
   "metadata": {},
   "outputs": [
    {
     "name": "stdout",
     "output_type": "stream",
     "text": [
      "1\n"
     ]
    }
   ],
   "source": [
    "x=np.array([1,2,3,4,5,1,2,1,1,1])\n",
    "print(np.bincount(x).argmax())"
   ]
  },
  {
   "cell_type": "code",
   "execution_count": null,
   "id": "d686c024",
   "metadata": {},
   "outputs": [],
   "source": [
    "# Q2: Construct a border of 0s around 2D  matrix\n",
    "# input_arr = [[1,2],\n",
    "#                [3,4]]\n",
    "# res_arr = [\n",
    "#             [0,0,0,0],\n",
    "#             [0,1,2,0],\n",
    "#             [0,3,4,0],\n",
    "#             [0,0,0,0],\n",
    "# ]"
   ]
  },
  {
   "cell_type": "code",
   "execution_count": 4,
   "id": "db9a0d36",
   "metadata": {},
   "outputs": [
    {
     "name": "stdout",
     "output_type": "stream",
     "text": [
      "[[0. 0. 0. 0.]\n",
      " [0. 1. 2. 0.]\n",
      " [0. 3. 4. 0.]\n",
      " [0. 0. 0. 0.]]\n"
     ]
    }
   ],
   "source": [
    "input_arr=np.array([[1,2],[3,4]])\n",
    "res_arr=np.zeros(16).reshape(4,4)\n",
    "res_arr[1:3,1:3]=input_arr\n",
    "print(res_arr)"
   ]
  },
  {
   "cell_type": "code",
   "execution_count": null,
   "id": "1840e49a",
   "metadata": {},
   "outputs": [],
   "source": [
    "# Q3. Combine these two arrays(arr1 and arr2) into this resultant array(res_arr): \n",
    "\n",
    "# arr1 = [[1, 2], \n",
    "#         [3, 4.]]\n",
    "\n",
    "# arr2 = [[5, 6, 7], \n",
    "#         [8, 9, 10]]\n",
    "\n",
    "# res_arr = [[ 1.,  2.,  5.,  6.,  7.],\n",
    "#        [ 3.,  4.,  8.,  9., 10.]"
   ]
  },
  {
   "cell_type": "code",
   "execution_count": 16,
   "id": "128fae62",
   "metadata": {},
   "outputs": [
    {
     "name": "stdout",
     "output_type": "stream",
     "text": [
      "[[ 1  2  5  6  7]\n",
      " [ 3  4  8  9 10]]\n"
     ]
    }
   ],
   "source": [
    "arr1=np.array([[1,2],[3,4]])\n",
    "arr2=np.array([[5,6,7],[8,9,10]])\n",
    "res_arr=np.concatenate((arr1,arr2),axis=1)\n",
    "print(res_arr)"
   ]
  },
  {
   "cell_type": "code",
   "execution_count": null,
   "id": "ff9f6f04",
   "metadata": {},
   "outputs": [],
   "source": [
    "# Q4. Find the number of occurrences of a sequence in a NumPy array?\n",
    "# arr = numpy.array([[9, 4, 5, 9, 4],\n",
    "#                    [4, 7, 8, 4, 7],\n",
    "#                    [2, 9, 9, 4, 7]])\n",
    "  \n",
    "# Counting sequence 4, 7"
   ]
  },
  {
   "cell_type": "code",
   "execution_count": 28,
   "id": "d664e0ea",
   "metadata": {},
   "outputs": [
    {
     "name": "stdout",
     "output_type": "stream",
     "text": [
      "3\n"
     ]
    }
   ],
   "source": [
    "arr=np.array([[9, 4, 5, 9, 4],[4, 7, 8, 4, 7],[2, 9, 9, 4, 7]])\n",
    "count=0\n",
    "for row in arr:\n",
    "    for i in range(len(row)-1):\n",
    "        if row[i:i+2].tolist()==[4, 7]:\n",
    "            count=count+1\n",
    "print(count)\n"
   ]
  },
  {
   "cell_type": "code",
   "execution_count": null,
   "id": "5e33ae57",
   "metadata": {},
   "outputs": [],
   "source": [
    "# Q5.  Find the most frequent value in a NumPy array? [[3,2,1],[5,4,3]]"
   ]
  },
  {
   "cell_type": "code",
   "execution_count": 39,
   "id": "20c3fb9d",
   "metadata": {},
   "outputs": [
    {
     "name": "stdout",
     "output_type": "stream",
     "text": [
      "3\n"
     ]
    }
   ],
   "source": [
    "arr=np.array([[3,2,1],[5,4,3]])\n",
    "flat_arr=arr.flatten()\n",
    "print(np.bincount(flat_arr).argmax())"
   ]
  },
  {
   "cell_type": "code",
   "execution_count": null,
   "id": "ec703bd5",
   "metadata": {},
   "outputs": [],
   "source": [
    "# Q6. Find the 3rd largest value and it's index in numpy array?\n",
    "# arr: [2 0 1 5 4 1 9,4]\n",
    "# res: 3rd largest value is 4 and its index are [4,7]"
   ]
  },
  {
   "cell_type": "code",
   "execution_count": 54,
   "id": "383fb27f",
   "metadata": {},
   "outputs": [
    {
     "name": "stdout",
     "output_type": "stream",
     "text": [
      "3rd largest value is 4 and it's index are [4 7]\n"
     ]
    }
   ],
   "source": [
    "arr=np.array([2,0,1,5,4,1,9,4])\n",
    "uniq_arr=np.unique(arr)\n",
    "sort_arr=np.sort(uniq_arr)\n",
    "third_large=sort_arr[-3]\n",
    "indices=np.where(third_large==arr)\n",
    "print(\"3rd largest value is {0} and it's index are {1}\".format(third_large,indices[0]))"
   ]
  },
  {
   "cell_type": "code",
   "execution_count": null,
   "id": "34eff5f6",
   "metadata": {},
   "outputs": [],
   "source": [
    "# Q7. Find euclidean distance between two numpy arrays?\n",
    "# point1 = np.array((1, 5, 6, 2, 3))\n",
    "# point2 = np.array((3, 7, 11, 4, 1))"
   ]
  },
  {
   "cell_type": "code",
   "execution_count": 55,
   "id": "6f19b967",
   "metadata": {},
   "outputs": [
    {
     "name": "stdout",
     "output_type": "stream",
     "text": [
      "6.4031242374328485\n"
     ]
    }
   ],
   "source": [
    "point1 = np.array((1, 5, 6, 2, 3))\n",
    "point2 = np.array((3, 7, 11, 4, 1))\n",
    "\n",
    "distance = np.linalg.norm(point1 - point2)\n",
    "print(distance)"
   ]
  },
  {
   "cell_type": "code",
   "execution_count": null,
   "id": "b8094415",
   "metadata": {},
   "outputs": [],
   "source": [
    "# Q8. Trim the leading and/or trailing zeros from a 1-D array or sequence \n",
    "# and ensure only one 0 is present before and after the values?\n",
    "# input_arr = [0,0,0,1,3,4,5,0,6,0,0,0,0,0,0,0]\n",
    "# output_arr = [0,1,3,4,5,0,6,0]"
   ]
  },
  {
   "cell_type": "code",
   "execution_count": 97,
   "id": "4515e313",
   "metadata": {},
   "outputs": [
    {
     "name": "stdout",
     "output_type": "stream",
     "text": [
      "[0 1 3 4 5 0 6 0]\n"
     ]
    }
   ],
   "source": [
    "arr=np.array([0,0,0,1,3,4,5,0,6,0,0,0,0,0,0,0])\n",
    "i=0\n",
    "while arr[i]==0 and arr[i+1]==0:\n",
    "    arr=np.delete(arr,i)\n",
    "i=len(arr)-1\n",
    "while arr[i]==0 and arr[i-1]==0:\n",
    "    arr=np.delete(arr,i)\n",
    "    i=i-1\n",
    "print(arr)"
   ]
  },
  {
   "cell_type": "code",
   "execution_count": null,
   "id": "d78985c0",
   "metadata": {},
   "outputs": [],
   "source": [
    "# Q9. Sorted a given complex array using the real part first, then the imaginary part.\n",
    "# Original array:\n",
    "# [(1+2j), (3-1j), (3-2j), (4-3j), (3+5j)]\n",
    "\n",
    "# res:\n",
    "# [1.+2.j 3.-2.j 3.-1.j 3.+5.j 4.-3.j]"
   ]
  },
  {
   "cell_type": "code",
   "execution_count": 98,
   "id": "03bbb7cc",
   "metadata": {},
   "outputs": [
    {
     "name": "stdout",
     "output_type": "stream",
     "text": [
      "[1.+2.j 3.-2.j 3.-1.j 3.+5.j 4.-3.j]\n"
     ]
    }
   ],
   "source": [
    "arr=np.array([1+2j,3-1j,3-2j,4-3j,3+5j])\n",
    "print(np.sort_complex(arr))"
   ]
  },
  {
   "cell_type": "code",
   "execution_count": null,
   "id": "e1605043",
   "metadata": {},
   "outputs": [],
   "source": [
    "# Q10. Sort the following students array with class first and then height in each class?\n",
    "# import numpy as np\n",
    "# data_type = [('name', 'S15'), ('class', int), ('height', float)]\n",
    "# students_details = [('James', 5, 48.5), ('Nail', 6, 52.5),('Paul', 5, 42.10), ('Pit', 6, 40.11)]\n",
    "# # create a structured array\n",
    "# students = np.array(students_details, dtype=data_type)"
   ]
  },
  {
   "cell_type": "code",
   "execution_count": 105,
   "id": "710f1216",
   "metadata": {},
   "outputs": [
    {
     "name": "stdout",
     "output_type": "stream",
     "text": [
      "[(b'Paul', 5, 42.1 ) (b'James', 5, 48.5 ) (b'Pit', 6, 40.11)\n",
      " (b'Nail', 6, 52.5 )]\n"
     ]
    }
   ],
   "source": [
    "data_type = [('name', 'S15'), ('class', int), ('height', float)]\n",
    "students_details = [('James', 5, 48.5), ('Nail', 6, 52.5),('Paul', 5, 42.10), ('Pit', 6, 40.11)]\n",
    "#create a structured array\n",
    "students = np.array(students_details, dtype=data_type)\n",
    "students = np.sort(students, order=['class', 'height'])\n",
    "print(students)"
   ]
  },
  {
   "cell_type": "code",
   "execution_count": null,
   "id": "e98fe137",
   "metadata": {},
   "outputs": [],
   "source": [
    "# Q11. How to build an array of all combinations of two NumPy arrays?\n",
    "  \n",
    "# creating 2 numpy arrays\n",
    "# array_1 = np.array([1, 2])\n",
    "# array_2 = np.array([4, 6,4])\n",
    "\n",
    "# # RESULT:\n",
    "# [[1 4]\n",
    "#  [1 6]\n",
    "#  [1 4]\n",
    "#  [2 4]\n",
    "#  [2 6]\n",
    "#  [2 4]]"
   ]
  },
  {
   "cell_type": "code",
   "execution_count": 117,
   "id": "170878e6",
   "metadata": {},
   "outputs": [
    {
     "name": "stdout",
     "output_type": "stream",
     "text": [
      "[[1 4]\n",
      " [1 6]\n",
      " [1 4]\n",
      " [2 4]\n",
      " [2 6]\n",
      " [2 4]]\n"
     ]
    }
   ],
   "source": [
    "array_1=np.array([1,2])\n",
    "array_2=np.array([4,6,4])\n",
    "result = np.array(np.meshgrid(array_1, array_2)).T.reshape(-1,2)\n",
    "print(result)"
   ]
  },
  {
   "cell_type": "code",
   "execution_count": 111,
   "id": "2714bec9",
   "metadata": {},
   "outputs": [],
   "source": [
    "# Q13. Reverse this array?\n",
    "# input_arr: [[1,2,3,4,5],[6,7,8,9,10]]\n",
    "# output_arr: [[5,4,3,2,1],[10,9,8,7,6]]"
   ]
  },
  {
   "cell_type": "code",
   "execution_count": 123,
   "id": "cbe8d2c5",
   "metadata": {},
   "outputs": [
    {
     "name": "stdout",
     "output_type": "stream",
     "text": [
      "[[ 5  4  3  2  1]\n",
      " [10  9  8  7  6]]\n"
     ]
    }
   ],
   "source": [
    "input_arr = np.array([[1,2,3,4,5],[6,7,8,9,10]])\n",
    "output_arr = np.fliplr(input_arr)\n",
    "print(output_arr)"
   ]
  },
  {
   "cell_type": "code",
   "execution_count": 124,
   "id": "8a25fccc",
   "metadata": {},
   "outputs": [],
   "source": [
    "# Q14. write a function that generates first n numbers in hemachandra series using Binet's formula?"
   ]
  },
  {
   "cell_type": "code",
   "execution_count": 127,
   "id": "7d628720",
   "metadata": {},
   "outputs": [
    {
     "name": "stdout",
     "output_type": "stream",
     "text": [
      "[1, 1, 1, 1, 2, 2, 3, 3, 4, 5]\n"
     ]
    }
   ],
   "source": [
    "import numpy as np\n",
    "\n",
    "def hemachandra_series(n):\n",
    "    t = (1 + np.sqrt(2)) / 2\n",
    "    s = (1 - np.sqrt(2)) / 2\n",
    "    fib = (t ** np.arange(1, n+1) - s ** np.arange(1, n+1)) / np.sqrt(2)\n",
    "    return np.around(fib).astype(int).tolist()\n",
    "print(hemachandra_series(10))"
   ]
  },
  {
   "cell_type": "code",
   "execution_count": 128,
   "id": "12b01ed3",
   "metadata": {},
   "outputs": [],
   "source": [
    "# Q15. write a function that creates an array of lengths for each element in a string array?\n",
    "# input_arr= np.array(['hi','I','am','india'],dtype=np.str)\n",
    "# output_arr = np.array([2,1,2,5])"
   ]
  },
  {
   "cell_type": "code",
   "execution_count": 134,
   "id": "2270475d",
   "metadata": {},
   "outputs": [
    {
     "name": "stdout",
     "output_type": "stream",
     "text": [
      "[2 1 2 5]\n"
     ]
    }
   ],
   "source": [
    "def lengths_of_strings(input_arr):\n",
    "    return np.array([len(s) for s in input_arr], dtype=int)\n",
    "input_arr=np.array(['hi','I','am','india'],dtype=str)\n",
    "print(lengths_of_strings(input_arr))"
   ]
  },
  {
   "cell_type": "code",
   "execution_count": 135,
   "id": "ed03d81f",
   "metadata": {},
   "outputs": [],
   "source": [
    "# Q16. Check whether a Numpy array contains a specified row\n",
    "# arr:np.array([[1,2],[3,4],[4,5]])\n",
    "    \n",
    "# row:[3,4]\n",
    "    \n",
    "# res: True"
   ]
  },
  {
   "cell_type": "code",
   "execution_count": 145,
   "id": "1b1a684c",
   "metadata": {},
   "outputs": [
    {
     "name": "stdout",
     "output_type": "stream",
     "text": [
      "True\n"
     ]
    }
   ],
   "source": [
    "arr=np.array([[1,2],[3,4],[4,5]])\n",
    "row=np.array([3,4])\n",
    "res=np.all(np.isin(row,arr))\n",
    "print(res)"
   ]
  },
  {
   "cell_type": "code",
   "execution_count": 146,
   "id": "919ed468",
   "metadata": {},
   "outputs": [],
   "source": [
    "# Q17. Remove rows in Numpy array that contains non-numeric values?\n",
    "# input arr: np.array([[1,2],[3,4],[4,np.nan]])\n",
    "# res: np.array([[1,2][3,4]])"
   ]
  },
  {
   "cell_type": "code",
   "execution_count": 148,
   "id": "bdcfc562",
   "metadata": {},
   "outputs": [
    {
     "name": "stdout",
     "output_type": "stream",
     "text": [
      "[[1. 2.]\n",
      " [3. 4.]]\n"
     ]
    }
   ],
   "source": [
    "arr = np.array([[1, 2], [3, 4], [4, np.nan]])\n",
    "\n",
    "arr = arr[~np.isnan(arr).any(axis=1)]\n",
    "print(arr)"
   ]
  },
  {
   "cell_type": "code",
   "execution_count": 151,
   "id": "f11315a6",
   "metadata": {},
   "outputs": [],
   "source": [
    "def write_to_file(arr, file_name):\n",
    "    np.savetxt(file_name, arr, delimiter=',', fmt='%.2f')\n",
    "arr = np.array([[1, 2], [3, 4], [4, 5]])\n",
    "write_to_file(arr, 'array.txt')"
   ]
  },
  {
   "cell_type": "code",
   "execution_count": 152,
   "id": "e4ad65e2",
   "metadata": {},
   "outputs": [],
   "source": [
    "# Q19. Write a function that converts a image file to numpy array \n",
    "# and check how many pixels it has and how many unique pixels it has?"
   ]
  },
  {
   "cell_type": "code",
   "execution_count": 157,
   "id": "e9f734d9",
   "metadata": {},
   "outputs": [
    {
     "name": "stdout",
     "output_type": "stream",
     "text": [
      "Number of pixels: 26588\n",
      "Number of unique pixels: 17\n"
     ]
    }
   ],
   "source": [
    "import numpy as np\n",
    "from PIL import Image\n",
    "\n",
    "def analyze_image(file_path):\n",
    "    img = Image.open(file_path)\n",
    "    arr = np.array(img)\n",
    "    num_pixels = arr.shape[0] * arr.shape[1]\n",
    "    unique_pixels, counts = np.unique(arr, return_counts=True)\n",
    "    num_unique_pixels = len(unique_pixels)\n",
    "    return num_pixels, num_unique_pixels\n",
    "\n",
    "num_pixels, num_unique_pixels = analyze_image('img.gif')\n",
    "print('Number of pixels:', num_pixels)\n",
    "print('Number of unique pixels:', num_unique_pixels)"
   ]
  },
  {
   "cell_type": "code",
   "execution_count": 154,
   "id": "74c331be",
   "metadata": {},
   "outputs": [],
   "source": [
    "# Q20. convert the following dictionary to numpy array?\n",
    "# input_dict = {1:2, 2:3, 3:4}\n",
    "# output_arr = np.array([[1,2],[2,3],[3,4]])"
   ]
  },
  {
   "cell_type": "code",
   "execution_count": 156,
   "id": "99b47e17",
   "metadata": {},
   "outputs": [
    {
     "name": "stdout",
     "output_type": "stream",
     "text": [
      "[[1 2]\n",
      " [2 3]\n",
      " [3 4]]\n"
     ]
    }
   ],
   "source": [
    "import numpy as np\n",
    "\n",
    "input_dict = {1:2, 2:3, 3:4}\n",
    "output_arr = np.array([[k, v] for k, v in input_dict.items()])\n",
    "print(output_arr)"
   ]
  }
 ],
 "metadata": {
  "kernelspec": {
   "display_name": "Python 3",
   "language": "python",
   "name": "python3"
  },
  "language_info": {
   "codemirror_mode": {
    "name": "ipython",
    "version": 3
   },
   "file_extension": ".py",
   "mimetype": "text/x-python",
   "name": "python",
   "nbconvert_exporter": "python",
   "pygments_lexer": "ipython3",
   "version": "3.8.8"
  }
 },
 "nbformat": 4,
 "nbformat_minor": 5
}
